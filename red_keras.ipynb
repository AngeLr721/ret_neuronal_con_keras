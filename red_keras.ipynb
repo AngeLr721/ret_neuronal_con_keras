{
  "cells": [
    {
      "cell_type": "markdown",
      "metadata": {
        "id": "view-in-github",
        "colab_type": "text"
      },
      "source": [
        "<a href=\"https://colab.research.google.com/github/AngeLr721/ret_neuronal_con_keras/blob/master/red_keras.ipynb\" target=\"_parent\"><img src=\"https://colab.research.google.com/assets/colab-badge.svg\" alt=\"Open In Colab\"/></a>"
      ]
    },
    {
      "cell_type": "code",
      "execution_count": null,
      "metadata": {
        "id": "5o3NMZPAlOk8"
      },
      "outputs": [],
      "source": [
        "import numpy as np\n",
        "import tensorflow as tf\n",
        "import pandas as pd\n",
        "import matplotlib.pyplot as plt\n",
        "from tensorflow import keras\n",
        "from tensorflow.keras.datasets import mnist\n",
        "from tensorflow.keras.models import Sequential\n",
        "from tensorflow.keras.layers import Dense, Dropout, Activation\n",
        "from tensorflow.keras.optimizers import RMSprop, SGD, Adam\n",
        "from tensorflow.keras import regularizers\n",
        "from sklearn.metrics import accuracy_score\n",
        "from tensorflow.keras.regularizers import L1, L2, L1L2"
      ]
    },
    {
      "cell_type": "code",
      "source": [],
      "metadata": {
        "id": "rWIXE6AoS6Du"
      },
      "execution_count": null,
      "outputs": []
    },
    {
      "cell_type": "code",
      "execution_count": null,
      "metadata": {
        "id": "kXcdktjHzVMG"
      },
      "outputs": [],
      "source": [
        "eta = 0.01\n",
        "epochs = 30\n",
        "batch_size = 10"
      ]
    },
    {
      "cell_type": "code",
      "execution_count": null,
      "metadata": {
        "id": "EcwpP79yuLdm"
      },
      "outputs": [],
      "source": [
        "dataset=mnist.load_data()"
      ]
    },
    {
      "cell_type": "code",
      "execution_count": null,
      "metadata": {
        "id": "nBaDFjEO0kgr",
        "colab": {
          "base_uri": "https://localhost:8080/"
        },
        "outputId": "7e2bdc3a-53b1-491c-cb9c-b4bcf1373313"
      },
      "outputs": [
        {
          "output_type": "stream",
          "name": "stdout",
          "text": [
            "(10000,)\n"
          ]
        },
        {
          "output_type": "stream",
          "name": "stderr",
          "text": [
            "<ipython-input-4-d86b9ee74159>:1: VisibleDeprecationWarning: Creating an ndarray from ragged nested sequences (which is a list-or-tuple of lists-or-tuples-or ndarrays with different lengths or shapes) is deprecated. If you meant to do this, you must specify 'dtype=object' when creating the ndarray.\n",
            "  dat=np.array(dataset)\n"
          ]
        }
      ],
      "source": [
        "dat=np.array(dataset)\n",
        "print(dat[1,1].shape)\n",
        "(x_train, y_train), (x_test, y_test) = dataset"
      ]
    },
    {
      "cell_type": "code",
      "execution_count": null,
      "metadata": {
        "id": "41kxw1-n4Nvj"
      },
      "outputs": [],
      "source": [
        "x_trainv = x_train.reshape(60000, 784)\n",
        "x_testv = x_test.reshape(10000, 784)\n",
        "x_trainv = x_trainv.astype('float32')\n",
        "x_testv = x_testv.astype('float32')\n",
        "\n",
        "x_trainv/=225\n",
        "x_testv/=225"
      ]
    },
    {
      "cell_type": "code",
      "execution_count": null,
      "metadata": {
        "id": "R-amYxZGUndc"
      },
      "outputs": [],
      "source": [
        "num_classes=10\n",
        "y_trainc = keras.utils.to_categorical(y_train, num_classes)\n",
        "y_testc = keras.utils.to_categorical(y_test, num_classes)"
      ]
    },
    {
      "cell_type": "code",
      "execution_count": null,
      "metadata": {
        "id": "OsC6k1xF58Gb",
        "colab": {
          "base_uri": "https://localhost:8080/"
        },
        "outputId": "70da52a4-388a-4467-9e27-3db1318936b2"
      },
      "outputs": [
        {
          "output_type": "stream",
          "name": "stdout",
          "text": [
            "Model: \"sequential\"\n",
            "_________________________________________________________________\n",
            " Layer (type)                Output Shape              Param #   \n",
            "=================================================================\n",
            " dense (Dense)               (None, 50)                39250     \n",
            "                                                                 \n",
            " dropout (Dropout)           (None, 50)                0         \n",
            "                                                                 \n",
            " dense_1 (Dense)             (None, 50)                2550      \n",
            "                                                                 \n",
            " dense_2 (Dense)             (None, 0)                 0         \n",
            "                                                                 \n",
            " dense_3 (Dense)             (None, 10)                10        \n",
            "                                                                 \n",
            "=================================================================\n",
            "Total params: 41810 (163.32 KB)\n",
            "Trainable params: 41810 (163.32 KB)\n",
            "Non-trainable params: 0 (0.00 Byte)\n",
            "_________________________________________________________________\n"
          ]
        }
      ],
      "source": [
        "from keras.api._v2.keras import optimizers\n",
        "model = Sequential()\n",
        "model.add(Dense(50, activation='relu', input_shape=(28*28,), kernel_regularizer=L1L2(l1=0.001, l2=0.01)))\n",
        "model.add(Dropout(0.5))\n",
        "model.add(Dense(50, activation='relu', kernel_regularizer=L1L2(l1=0.001, l2=0.01)))\n",
        "model.add(Dense(0.5))\n",
        "model.add(Dense(num_classes, activation='sigmoid'))\n",
        "model.summary()\n",
        "model.compile(loss='mean_squared_error', optimizer=SGD(learning_rate=eta),metrics=['accuracy'])"
      ]
    },
    {
      "cell_type": "code",
      "execution_count": null,
      "metadata": {
        "id": "IUo6GNlB5TRz",
        "colab": {
          "base_uri": "https://localhost:8080/"
        },
        "outputId": "01b615a6-9b31-4ba6-c8ff-a3411fc24497"
      },
      "outputs": [
        {
          "output_type": "stream",
          "name": "stdout",
          "text": [
            "Epoch 1/30\n",
            "6000/6000 [==============================] - 26s 4ms/step - loss: 1.1209 - accuracy: 0.0987 - val_loss: 0.2801 - val_accuracy: 0.0980\n",
            "Epoch 2/30\n",
            "6000/6000 [==============================] - 17s 3ms/step - loss: 0.2545 - accuracy: 0.0987 - val_loss: 0.2502 - val_accuracy: 0.0980\n",
            "Epoch 3/30\n",
            "6000/6000 [==============================] - 17s 3ms/step - loss: 0.2502 - accuracy: 0.0987 - val_loss: 0.2502 - val_accuracy: 0.0980\n",
            "Epoch 4/30\n",
            "6000/6000 [==============================] - 16s 3ms/step - loss: 0.2502 - accuracy: 0.0987 - val_loss: 0.2502 - val_accuracy: 0.0980\n",
            "Epoch 5/30\n",
            "6000/6000 [==============================] - 16s 3ms/step - loss: 0.2502 - accuracy: 0.0987 - val_loss: 0.2502 - val_accuracy: 0.0980\n",
            "Epoch 6/30\n",
            "6000/6000 [==============================] - 16s 3ms/step - loss: 0.2502 - accuracy: 0.0987 - val_loss: 0.2502 - val_accuracy: 0.0980\n",
            "Epoch 7/30\n",
            "6000/6000 [==============================] - 17s 3ms/step - loss: 0.2502 - accuracy: 0.0987 - val_loss: 0.2502 - val_accuracy: 0.0980\n",
            "Epoch 8/30\n",
            "6000/6000 [==============================] - 19s 3ms/step - loss: 0.2502 - accuracy: 0.0987 - val_loss: 0.2502 - val_accuracy: 0.0980\n",
            "Epoch 9/30\n",
            "6000/6000 [==============================] - 16s 3ms/step - loss: 0.2502 - accuracy: 0.0987 - val_loss: 0.2502 - val_accuracy: 0.0980\n",
            "Epoch 10/30\n",
            "6000/6000 [==============================] - 17s 3ms/step - loss: 0.2502 - accuracy: 0.0987 - val_loss: 0.2502 - val_accuracy: 0.0980\n",
            "Epoch 11/30\n",
            "6000/6000 [==============================] - 17s 3ms/step - loss: 0.2502 - accuracy: 0.0987 - val_loss: 0.2502 - val_accuracy: 0.0980\n",
            "Epoch 12/30\n",
            "6000/6000 [==============================] - 16s 3ms/step - loss: 0.2502 - accuracy: 0.0987 - val_loss: 0.2502 - val_accuracy: 0.0980\n",
            "Epoch 13/30\n",
            "6000/6000 [==============================] - 16s 3ms/step - loss: 0.2502 - accuracy: 0.0987 - val_loss: 0.2502 - val_accuracy: 0.0980\n",
            "Epoch 14/30\n",
            "6000/6000 [==============================] - 17s 3ms/step - loss: 0.2502 - accuracy: 0.0987 - val_loss: 0.2502 - val_accuracy: 0.0980\n",
            "Epoch 15/30\n",
            "6000/6000 [==============================] - 17s 3ms/step - loss: 0.2502 - accuracy: 0.0987 - val_loss: 0.2502 - val_accuracy: 0.0980\n",
            "Epoch 16/30\n",
            "6000/6000 [==============================] - 17s 3ms/step - loss: 0.2502 - accuracy: 0.0987 - val_loss: 0.2502 - val_accuracy: 0.0980\n",
            "Epoch 17/30\n",
            "6000/6000 [==============================] - 17s 3ms/step - loss: 0.2502 - accuracy: 0.0987 - val_loss: 0.2502 - val_accuracy: 0.0980\n",
            "Epoch 18/30\n",
            "6000/6000 [==============================] - 17s 3ms/step - loss: 0.2502 - accuracy: 0.0987 - val_loss: 0.2502 - val_accuracy: 0.0980\n",
            "Epoch 19/30\n",
            "6000/6000 [==============================] - 17s 3ms/step - loss: 0.2502 - accuracy: 0.0987 - val_loss: 0.2502 - val_accuracy: 0.0980\n",
            "Epoch 20/30\n",
            "6000/6000 [==============================] - 17s 3ms/step - loss: 0.2502 - accuracy: 0.0987 - val_loss: 0.2502 - val_accuracy: 0.0980\n",
            "Epoch 21/30\n",
            "6000/6000 [==============================] - 16s 3ms/step - loss: 0.2502 - accuracy: 0.0987 - val_loss: 0.2502 - val_accuracy: 0.0980\n",
            "Epoch 22/30\n",
            "6000/6000 [==============================] - 17s 3ms/step - loss: 0.2502 - accuracy: 0.0987 - val_loss: 0.2502 - val_accuracy: 0.0980\n",
            "Epoch 23/30\n",
            "6000/6000 [==============================] - 18s 3ms/step - loss: 0.2502 - accuracy: 0.0987 - val_loss: 0.2502 - val_accuracy: 0.0980\n",
            "Epoch 24/30\n",
            "6000/6000 [==============================] - 18s 3ms/step - loss: 0.2502 - accuracy: 0.0987 - val_loss: 0.2502 - val_accuracy: 0.0980\n",
            "Epoch 25/30\n",
            "6000/6000 [==============================] - 18s 3ms/step - loss: 0.2502 - accuracy: 0.0987 - val_loss: 0.2502 - val_accuracy: 0.0980\n",
            "Epoch 26/30\n",
            "6000/6000 [==============================] - 17s 3ms/step - loss: 0.2502 - accuracy: 0.0987 - val_loss: 0.2502 - val_accuracy: 0.0980\n",
            "Epoch 27/30\n",
            "6000/6000 [==============================] - 17s 3ms/step - loss: 0.2502 - accuracy: 0.0987 - val_loss: 0.2502 - val_accuracy: 0.0980\n",
            "Epoch 28/30\n",
            "6000/6000 [==============================] - 18s 3ms/step - loss: 0.2502 - accuracy: 0.0987 - val_loss: 0.2502 - val_accuracy: 0.0980\n",
            "Epoch 29/30\n",
            "6000/6000 [==============================] - 17s 3ms/step - loss: 0.2502 - accuracy: 0.0987 - val_loss: 0.2502 - val_accuracy: 0.0980\n",
            "Epoch 30/30\n",
            "6000/6000 [==============================] - 16s 3ms/step - loss: 0.2502 - accuracy: 0.0987 - val_loss: 0.2502 - val_accuracy: 0.0980\n"
          ]
        }
      ],
      "source": [
        "history = model.fit(x_trainv, y_trainc,\n",
        "                    batch_size=batch_size,\n",
        "                    epochs=epochs,\n",
        "                    verbose=1,\n",
        "                    validation_data=(x_testv, y_testc)\n",
        "                    )"
      ]
    },
    {
      "cell_type": "code",
      "source": [
        "# Obtener la precisión y la pérdida del historial de entrenamiento\n",
        "train_accuracy = history.history['accuracy']\n",
        "val_accuracy = history.history['val_accuracy']\n",
        "train_loss = history.history['loss']\n",
        "val_loss = history.history['val_loss']\n",
        "\n",
        "# Crear las gráficas\n",
        "plt.figure(figsize=(12, 4))\n",
        "\n",
        "# Gráfica de precisión\n",
        "plt.subplot(1, 2, 1)\n",
        "plt.plot(range(1, len(train_accuracy) + 1), train_accuracy, label='Precisión en Entrenamiento')\n",
        "plt.plot(range(1, len(val_accuracy) + 1), val_accuracy, label='Precisión en Validación')\n",
        "plt.title('Precisión vs. Épocas')\n",
        "plt.xlabel('Épocas')\n",
        "plt.ylabel('Precisión')\n",
        "plt.legend()\n",
        "\n",
        "# Gráfica de pérdida\n",
        "plt.subplot(1, 2, 2)\n",
        "plt.plot(range(1, len(train_loss) + 1), train_loss, label='Pérdida en Entrenamiento')\n",
        "plt.plot(range(1, len(val_loss) + 1), val_loss, label='Pérdida en Validación')\n",
        "plt.title('Pérdida vs. Épocas')\n",
        "plt.xlabel('Épocas')\n",
        "plt.ylabel('Pérdida')\n",
        "plt.legend()\n",
        "\n",
        "# Mostrar las gráficas\n",
        "plt.tight_layout()\n",
        "plt.show()"
      ],
      "metadata": {
        "id": "zM7DWkVRzvEg",
        "colab": {
          "base_uri": "https://localhost:8080/",
          "height": 402
        },
        "outputId": "d9302545-d59d-49f3-80d3-7ea63e26ed21"
      },
      "execution_count": null,
      "outputs": [
        {
          "output_type": "display_data",
          "data": {
            "text/plain": [
              "<Figure size 1200x400 with 2 Axes>"
            ],
            "image/png": "[encoded data removed]"
          },
          "metadata": {}
        }
      ]
    },
    {
      "cell_type": "code",
      "source": [
        "# Obtiene las métricas de entrenamiento y prueba\n",
        "train_loss = history.history['loss']\n",
        "train_accuracy = history.history['accuracy']\n",
        "val_loss = history.history['val_loss']\n",
        "val_accuracy = history.history['val_accuracy']\n",
        "\n",
        "# Crea un DataFrame con las métricas\n",
        "df = pd.DataFrame({\n",
        "    'train_loss': train_loss,\n",
        "    'train_accuracy': train_accuracy,\n",
        "    'val_loss': val_loss,\n",
        "    'val_accuracy': val_accuracy\n",
        "})\n",
        "\n",
        "# Guarda el DataFrame en un archivo CSV\n",
        "csv_filename = '/content/metricas_entrenamiento_prueba.csv'\n",
        "df.to_csv(csv_filename, index=False)"
      ],
      "metadata": {
        "id": "NzJ5R6cAKxwn"
      },
      "execution_count": null,
      "outputs": []
    }
  ],
  "metadata": {
    "colab": {
      "provenance": [],
      "mount_file_id": "16SUG70tNdxMKuD9LozMF_kBph-YDzevv",
      "authorship_tag": "ABX9TyMwPajDmTTWFtwu66h1kQCT",
      "include_colab_link": true
    },
    "kernelspec": {
      "display_name": "Python 3",
      "name": "python3"
    },
    "language_info": {
      "name": "python"
    }
  },
  "nbformat": 4,
  "nbformat_minor": 0
}